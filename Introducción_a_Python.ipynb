{
  "nbformat": 4,
  "nbformat_minor": 0,
  "metadata": {
    "anaconda-cloud": {},
    "kernelspec": {
      "display_name": "Python 3",
      "language": "python",
      "name": "python3"
    },
    "language_info": {
      "codemirror_mode": {
        "name": "ipython",
        "version": 3
      },
      "file_extension": ".py",
      "mimetype": "text/x-python",
      "name": "python",
      "nbconvert_exporter": "python",
      "pygments_lexer": "ipython3",
      "version": "3.8.3"
    },
    "colab": {
      "name": "Introducción a Python",
      "provenance": [],
      "collapsed_sections": [],
      "include_colab_link": true
    }
  },
  "cells": [
    {
      "cell_type": "markdown",
      "metadata": {
        "id": "view-in-github",
        "colab_type": "text"
      },
      "source": [
        "<a href=\"https://colab.research.google.com/github/mgarbanzo/MeteoPythonUCR/blob/main/Introducci%C3%B3n_a_Python.ipynb\" target=\"_parent\"><img src=\"https://colab.research.google.com/assets/colab-badge.svg\" alt=\"Open In Colab\"/></a>"
      ]
    },
    {
      "cell_type": "markdown",
      "metadata": {
        "id": "fWw8uSpBYW1J"
      },
      "source": [
        "UNIVERSIDAD DE COSTA RICA\n",
        "\n",
        "Escuela de Física\n",
        "\n",
        "Departamento de Física Atmosférica, Oceánica y Planetaria\n",
        "\n",
        "Centro Regional de Formación Meteorológica\n",
        "\n",
        "Prof. Marcial Garbanzo Salas, M.Sc., PhD\n",
        "\n",
        "Curso: Instrumentos Meteorológicos\n",
        "\n"
      ]
    },
    {
      "cell_type": "markdown",
      "metadata": {
        "id": "YuxNdvlbbMO1"
      },
      "source": [
        "# Antes de comenzar...\n",
        "\n",
        "Recuerde que existen casillas de Texto y de Código.\n",
        "\n",
        "Puede agregar casillas utilizando los botones de arriba a la izquierda donde dice \n",
        "\n",
        "> \\+ Código\n",
        "\n",
        "y \n",
        "\n",
        "> \\+ Texto\n",
        "\n",
        "luego para ejecutar el código o dejar finalizar la edición de texto debe presionar\n",
        "\n",
        "> Shift + Enter\n",
        "\n",
        "sobre cada casilla individual.\n",
        "\n",
        "---\n",
        "\n",
        "Por cierto, el tipo de texto que se utiliza aquí es llamado **Markdown** y puede aprender más acerca de como utilizarlo [aquí en Inglés](https://www.markdownguide.org/basic-syntax/) o [aquí en Español](https://markdown.es/sintaxis-markdown/).\n",
        "\n",
        "\n",
        "\n"
      ]
    },
    {
      "cell_type": "markdown",
      "metadata": {
        "id": "3NdJcl_LYMml"
      },
      "source": [
        "# Esto es un notebook de Jupyter ejecutandose en Colab.Research"
      ]
    },
    {
      "cell_type": "markdown",
      "metadata": {
        "id": "uGfxxKXUYMms"
      },
      "source": [
        "Para más información vea aquí: http://jupyter-notebook.readthedocs.io/en/latest/notebook.html"
      ]
    },
    {
      "cell_type": "markdown",
      "metadata": {
        "id": "C0GdjPMqYMmx"
      },
      "source": [
        "Para comenzar con programación:\n",
        "\n",
        "¿Qué es un entero o un flotante o una cadena de caracteres? NO IMPORTA! \n",
        "\n",
        "Para los humanos esto debe ser obvio y la compu lo sabe. ¡Lo anterior tiene sus excepciones!"
      ]
    },
    {
      "cell_type": "markdown",
      "metadata": {
        "id": "OGiXuMczYMmx"
      },
      "source": [
        "Veamos las siguientes operaciones básicas:"
      ]
    },
    {
      "cell_type": "code",
      "metadata": {
        "id": "CoXft7EhYMmy"
      },
      "source": [
        "# Esto son números complejos\n",
        "a = 3*1j+2\n",
        "b = 2j-1"
      ],
      "execution_count": 2,
      "outputs": []
    },
    {
      "cell_type": "markdown",
      "metadata": {
        "id": "sAxxT9O3b5FE"
      },
      "source": [
        "Ejecute y analice los siguientes comandos."
      ]
    },
    {
      "cell_type": "code",
      "metadata": {
        "id": "MRo9yy5VYMm0",
        "colab": {
          "base_uri": "https://localhost:8080/"
        },
        "outputId": "adb5d43e-9b1e-438a-de13-a84d1a570f1f"
      },
      "source": [
        "print(a)"
      ],
      "execution_count": 3,
      "outputs": [
        {
          "output_type": "stream",
          "text": [
            "(2+3j)\n"
          ],
          "name": "stdout"
        }
      ]
    },
    {
      "cell_type": "code",
      "metadata": {
        "id": "jENI5W0WYMm1",
        "colab": {
          "base_uri": "https://localhost:8080/"
        },
        "outputId": "c7c11ee3-8f31-44b7-c266-086f1d7a517e"
      },
      "source": [
        "a*2"
      ],
      "execution_count": 4,
      "outputs": [
        {
          "output_type": "execute_result",
          "data": {
            "text/plain": [
              "(4+6j)"
            ]
          },
          "metadata": {
            "tags": []
          },
          "execution_count": 4
        }
      ]
    },
    {
      "cell_type": "code",
      "metadata": {
        "id": "5BVZrySMYMm2",
        "colab": {
          "base_uri": "https://localhost:8080/"
        },
        "outputId": "63ff90e4-cbc5-487c-ed39-2aa501b52f81"
      },
      "source": [
        "a**2"
      ],
      "execution_count": 5,
      "outputs": [
        {
          "output_type": "execute_result",
          "data": {
            "text/plain": [
              "(-5+12j)"
            ]
          },
          "metadata": {
            "tags": []
          },
          "execution_count": 5
        }
      ]
    },
    {
      "cell_type": "code",
      "metadata": {
        "id": "p1NES5JeYMm2",
        "colab": {
          "base_uri": "https://localhost:8080/"
        },
        "outputId": "9c9d1275-de59-420d-8cc6-7d643de8d881"
      },
      "source": [
        "a*b"
      ],
      "execution_count": 6,
      "outputs": [
        {
          "output_type": "execute_result",
          "data": {
            "text/plain": [
              "(-8+1j)"
            ]
          },
          "metadata": {
            "tags": []
          },
          "execution_count": 6
        }
      ]
    },
    {
      "cell_type": "code",
      "metadata": {
        "id": "8X9afe2UYMm2",
        "colab": {
          "base_uri": "https://localhost:8080/"
        },
        "outputId": "76d8422f-7b7e-4294-d44c-2341a74fd7a2"
      },
      "source": [
        "a/b"
      ],
      "execution_count": 7,
      "outputs": [
        {
          "output_type": "execute_result",
          "data": {
            "text/plain": [
              "(0.8-1.4j)"
            ]
          },
          "metadata": {
            "tags": []
          },
          "execution_count": 7
        }
      ]
    },
    {
      "cell_type": "code",
      "metadata": {
        "id": "-OrT1lB9YMm3",
        "colab": {
          "base_uri": "https://localhost:8080/"
        },
        "outputId": "0ff205a0-1a5c-4932-ffea-3301ce784b38"
      },
      "source": [
        "b.conjugate()"
      ],
      "execution_count": 8,
      "outputs": [
        {
          "output_type": "execute_result",
          "data": {
            "text/plain": [
              "(-1-2j)"
            ]
          },
          "metadata": {
            "tags": []
          },
          "execution_count": 8
        }
      ]
    },
    {
      "cell_type": "code",
      "metadata": {
        "id": "IVBO84bmYMm3",
        "colab": {
          "base_uri": "https://localhost:8080/"
        },
        "outputId": "7cfc1812-7916-4ccc-e6f8-1bdfb599e033"
      },
      "source": [
        "(a*b.conjugate()) / (b*b.conjugate())"
      ],
      "execution_count": 9,
      "outputs": [
        {
          "output_type": "execute_result",
          "data": {
            "text/plain": [
              "(0.8-1.4j)"
            ]
          },
          "metadata": {
            "tags": []
          },
          "execution_count": 9
        }
      ]
    },
    {
      "cell_type": "markdown",
      "metadata": {
        "id": "JbunZL79YMm4"
      },
      "source": [
        "Python entiende bastante bien de números! Lo que nos permite trabajar más tranquilamente a l@s científic@s!"
      ]
    },
    {
      "cell_type": "markdown",
      "metadata": {
        "id": "BKAHtQiiYMm4"
      },
      "source": [
        "# Igualdades, desigualdades y operaciones"
      ]
    },
    {
      "cell_type": "code",
      "metadata": {
        "id": "UkRbFPDPYMm4",
        "colab": {
          "base_uri": "https://localhost:8080/"
        },
        "outputId": "88df3c06-dd20-4b4b-b819-e899ab6b0899"
      },
      "source": [
        "a == 1"
      ],
      "execution_count": 10,
      "outputs": [
        {
          "output_type": "execute_result",
          "data": {
            "text/plain": [
              "False"
            ]
          },
          "metadata": {
            "tags": []
          },
          "execution_count": 10
        }
      ]
    },
    {
      "cell_type": "code",
      "metadata": {
        "id": "zGOF1nP2YMm5",
        "colab": {
          "base_uri": "https://localhost:8080/"
        },
        "outputId": "8198dc91-738a-47a8-c1bd-83ed6c58fbde"
      },
      "source": [
        "5 != 5"
      ],
      "execution_count": 11,
      "outputs": [
        {
          "output_type": "execute_result",
          "data": {
            "text/plain": [
              "False"
            ]
          },
          "metadata": {
            "tags": []
          },
          "execution_count": 11
        }
      ]
    },
    {
      "cell_type": "code",
      "metadata": {
        "id": "iICEDucGYMm5",
        "colab": {
          "base_uri": "https://localhost:8080/"
        },
        "outputId": "055ce620-b21a-4722-c2cd-36323dd82f9b"
      },
      "source": [
        "a == 1 and a == a"
      ],
      "execution_count": 12,
      "outputs": [
        {
          "output_type": "execute_result",
          "data": {
            "text/plain": [
              "False"
            ]
          },
          "metadata": {
            "tags": []
          },
          "execution_count": 12
        }
      ]
    },
    {
      "cell_type": "code",
      "metadata": {
        "id": "M9UZ8LGbYMm5",
        "colab": {
          "base_uri": "https://localhost:8080/"
        },
        "outputId": "2b5c390c-2ab3-48ff-d0c6-0460eb71bc27"
      },
      "source": [
        "a != b"
      ],
      "execution_count": 13,
      "outputs": [
        {
          "output_type": "execute_result",
          "data": {
            "text/plain": [
              "True"
            ]
          },
          "metadata": {
            "tags": []
          },
          "execution_count": 13
        }
      ]
    },
    {
      "cell_type": "code",
      "metadata": {
        "id": "IDlwJc-WYMm6",
        "colab": {
          "base_uri": "https://localhost:8080/"
        },
        "outputId": "caa0b9c0-0c44-4f82-f058-720ac559c19f"
      },
      "source": [
        "5 < 10"
      ],
      "execution_count": 14,
      "outputs": [
        {
          "output_type": "execute_result",
          "data": {
            "text/plain": [
              "True"
            ]
          },
          "metadata": {
            "tags": []
          },
          "execution_count": 14
        }
      ]
    },
    {
      "cell_type": "code",
      "metadata": {
        "id": "cj4Hqh2nYMm6",
        "colab": {
          "base_uri": "https://localhost:8080/"
        },
        "outputId": "85e7e26f-d264-4e53-ecb8-76fa32615cc7"
      },
      "source": [
        "10 < 5*2"
      ],
      "execution_count": 15,
      "outputs": [
        {
          "output_type": "execute_result",
          "data": {
            "text/plain": [
              "False"
            ]
          },
          "metadata": {
            "tags": []
          },
          "execution_count": 15
        }
      ]
    },
    {
      "cell_type": "markdown",
      "metadata": {
        "id": "InUGQ8ASYMm6"
      },
      "source": [
        "# Listas de números"
      ]
    },
    {
      "cell_type": "code",
      "metadata": {
        "id": "3dele97NYMm7"
      },
      "source": [
        "a = 1"
      ],
      "execution_count": 16,
      "outputs": []
    },
    {
      "cell_type": "code",
      "metadata": {
        "id": "t-ZXg4gsYMm8"
      },
      "source": [
        "b = 1,"
      ],
      "execution_count": 17,
      "outputs": []
    },
    {
      "cell_type": "code",
      "metadata": {
        "id": "Ip9QgLlSYMm8"
      },
      "source": [
        "b = [1]"
      ],
      "execution_count": 18,
      "outputs": []
    },
    {
      "cell_type": "code",
      "metadata": {
        "id": "7a4VOrcgYMm8",
        "colab": {
          "base_uri": "https://localhost:8080/"
        },
        "outputId": "1d25e29a-e2a6-446d-f182-6c7cfd539bf3"
      },
      "source": [
        "a == b"
      ],
      "execution_count": 19,
      "outputs": [
        {
          "output_type": "execute_result",
          "data": {
            "text/plain": [
              "False"
            ]
          },
          "metadata": {
            "tags": []
          },
          "execution_count": 19
        }
      ]
    },
    {
      "cell_type": "code",
      "metadata": {
        "id": "EnWi5fktYMm9",
        "colab": {
          "base_uri": "https://localhost:8080/"
        },
        "outputId": "5cd6d299-ddb1-4a4b-95b7-bd6c43f59335"
      },
      "source": [
        "type(a)"
      ],
      "execution_count": 20,
      "outputs": [
        {
          "output_type": "execute_result",
          "data": {
            "text/plain": [
              "int"
            ]
          },
          "metadata": {
            "tags": []
          },
          "execution_count": 20
        }
      ]
    },
    {
      "cell_type": "code",
      "metadata": {
        "id": "bKEahmOjYMm9",
        "colab": {
          "base_uri": "https://localhost:8080/"
        },
        "outputId": "f7b7d920-8277-49b6-9290-7cc7dbd05200"
      },
      "source": [
        "type(b)"
      ],
      "execution_count": 21,
      "outputs": [
        {
          "output_type": "execute_result",
          "data": {
            "text/plain": [
              "list"
            ]
          },
          "metadata": {
            "tags": []
          },
          "execution_count": 21
        }
      ]
    },
    {
      "cell_type": "code",
      "metadata": {
        "id": "SaIsL3fYYMm9"
      },
      "source": [
        "#a[0]"
      ],
      "execution_count": 22,
      "outputs": []
    },
    {
      "cell_type": "code",
      "metadata": {
        "id": "gcerSwopYMm9",
        "colab": {
          "base_uri": "https://localhost:8080/"
        },
        "outputId": "e2e0e3b5-04e1-4343-9f99-fdf664a387f7"
      },
      "source": [
        "b[0]"
      ],
      "execution_count": 23,
      "outputs": [
        {
          "output_type": "execute_result",
          "data": {
            "text/plain": [
              "1"
            ]
          },
          "metadata": {
            "tags": []
          },
          "execution_count": 23
        }
      ]
    },
    {
      "cell_type": "code",
      "metadata": {
        "id": "h9WuwP-mYMm-"
      },
      "source": [
        "b = [1,2,3,4,5]"
      ],
      "execution_count": 24,
      "outputs": []
    },
    {
      "cell_type": "code",
      "metadata": {
        "id": "kwsGbsavYMm-",
        "colab": {
          "base_uri": "https://localhost:8080/"
        },
        "outputId": "d17d63ca-319a-4194-81db-c8c9b7f9c499"
      },
      "source": [
        "b[3]"
      ],
      "execution_count": 25,
      "outputs": [
        {
          "output_type": "execute_result",
          "data": {
            "text/plain": [
              "4"
            ]
          },
          "metadata": {
            "tags": []
          },
          "execution_count": 25
        }
      ]
    },
    {
      "cell_type": "code",
      "metadata": {
        "id": "cN1DrWXsYMm-"
      },
      "source": [
        "#len(a)"
      ],
      "execution_count": 26,
      "outputs": []
    },
    {
      "cell_type": "code",
      "metadata": {
        "id": "je9OoiuYYMm-",
        "colab": {
          "base_uri": "https://localhost:8080/"
        },
        "outputId": "52f869c3-b64a-4bb3-ad4a-93c275389d2c"
      },
      "source": [
        "len(b)"
      ],
      "execution_count": 27,
      "outputs": [
        {
          "output_type": "execute_result",
          "data": {
            "text/plain": [
              "5"
            ]
          },
          "metadata": {
            "tags": []
          },
          "execution_count": 27
        }
      ]
    },
    {
      "cell_type": "markdown",
      "metadata": {
        "id": "lIS-vgRecgCl"
      },
      "source": [
        "en la siguiente casilla de código se importan de librería math el número pi:"
      ]
    },
    {
      "cell_type": "code",
      "metadata": {
        "id": "1mhJM97OYMm_"
      },
      "source": [
        "from math import pi\n",
        "\n",
        "c = [1,2.25,3,'i','j','k','Hola',1j+2, pi]"
      ],
      "execution_count": 28,
      "outputs": []
    },
    {
      "cell_type": "code",
      "metadata": {
        "id": "ohz5YSLKYMm_",
        "colab": {
          "base_uri": "https://localhost:8080/"
        },
        "outputId": "c34428c8-664b-4801-d8cf-0989d09ad775"
      },
      "source": [
        "c"
      ],
      "execution_count": 29,
      "outputs": [
        {
          "output_type": "execute_result",
          "data": {
            "text/plain": [
              "[1, 2.25, 3, 'i', 'j', 'k', 'Hola', (2+1j), 3.141592653589793]"
            ]
          },
          "metadata": {
            "tags": []
          },
          "execution_count": 29
        }
      ]
    },
    {
      "cell_type": "code",
      "metadata": {
        "id": "QWA6ptCcYMm_",
        "colab": {
          "base_uri": "https://localhost:8080/"
        },
        "outputId": "b7d6b833-b772-435e-c6c5-551f8b5af4b5"
      },
      "source": [
        "print(len(c))"
      ],
      "execution_count": 30,
      "outputs": [
        {
          "output_type": "stream",
          "text": [
            "9\n"
          ],
          "name": "stdout"
        }
      ]
    },
    {
      "cell_type": "code",
      "metadata": {
        "id": "r_jOV7bYYMm_",
        "colab": {
          "base_uri": "https://localhost:8080/"
        },
        "outputId": "7364bde9-4196-4da2-b9fa-f3c35d61c21a"
      },
      "source": [
        "c[0]"
      ],
      "execution_count": 31,
      "outputs": [
        {
          "output_type": "execute_result",
          "data": {
            "text/plain": [
              "1"
            ]
          },
          "metadata": {
            "tags": []
          },
          "execution_count": 31
        }
      ]
    },
    {
      "cell_type": "code",
      "metadata": {
        "id": "tnm8OSIGYMm_",
        "colab": {
          "base_uri": "https://localhost:8080/"
        },
        "outputId": "ac8f03ed-486e-40be-e4ff-f5ba87bed73c"
      },
      "source": [
        "c[8]"
      ],
      "execution_count": 32,
      "outputs": [
        {
          "output_type": "execute_result",
          "data": {
            "text/plain": [
              "3.141592653589793"
            ]
          },
          "metadata": {
            "tags": []
          },
          "execution_count": 32
        }
      ]
    },
    {
      "cell_type": "code",
      "metadata": {
        "id": "Ms9IPc7xYMnA",
        "colab": {
          "base_uri": "https://localhost:8080/"
        },
        "outputId": "4beecd40-8efe-4aaf-d56a-6949fa8c0b5c"
      },
      "source": [
        "c[2:5]"
      ],
      "execution_count": 33,
      "outputs": [
        {
          "output_type": "execute_result",
          "data": {
            "text/plain": [
              "[3, 'i', 'j']"
            ]
          },
          "metadata": {
            "tags": []
          },
          "execution_count": 33
        }
      ]
    },
    {
      "cell_type": "code",
      "metadata": {
        "id": "9xEImH5SYMnA"
      },
      "source": [
        "nuevaLista = c[::2]"
      ],
      "execution_count": 34,
      "outputs": []
    },
    {
      "cell_type": "code",
      "metadata": {
        "id": "mVSpUPwrYMnA"
      },
      "source": [
        "a = [1,2,3]"
      ],
      "execution_count": 35,
      "outputs": []
    },
    {
      "cell_type": "code",
      "metadata": {
        "id": "heQIcrVxYMnB"
      },
      "source": [
        "a.append?"
      ],
      "execution_count": 36,
      "outputs": []
    },
    {
      "cell_type": "code",
      "metadata": {
        "id": "DylRSwuLYMnB"
      },
      "source": [
        "import numpy as np\n",
        "a = np.array(a)"
      ],
      "execution_count": 37,
      "outputs": []
    },
    {
      "cell_type": "code",
      "metadata": {
        "id": "4Ua1-fX0YMnB",
        "colab": {
          "base_uri": "https://localhost:8080/"
        },
        "outputId": "9725fb10-8025-4b2e-a32d-b65c6bbac442"
      },
      "source": [
        "a"
      ],
      "execution_count": 38,
      "outputs": [
        {
          "output_type": "execute_result",
          "data": {
            "text/plain": [
              "array([1, 2, 3])"
            ]
          },
          "metadata": {
            "tags": []
          },
          "execution_count": 38
        }
      ]
    },
    {
      "cell_type": "code",
      "metadata": {
        "id": "B3hEZ56yYMnB",
        "colab": {
          "base_uri": "https://localhost:8080/"
        },
        "outputId": "c7bb52a5-1bdb-48c0-eb75-8e00c918951c"
      },
      "source": [
        "a.max(), a.min(), a.mean(), a.std()"
      ],
      "execution_count": 39,
      "outputs": [
        {
          "output_type": "execute_result",
          "data": {
            "text/plain": [
              "(3, 1, 2.0, 0.816496580927726)"
            ]
          },
          "metadata": {
            "tags": []
          },
          "execution_count": 39
        }
      ]
    },
    {
      "cell_type": "code",
      "metadata": {
        "id": "rF0GJzMcYMnB"
      },
      "source": [
        ""
      ],
      "execution_count": 39,
      "outputs": []
    },
    {
      "cell_type": "code",
      "metadata": {
        "id": "4xsEmEPEYMnB"
      },
      "source": [
        ""
      ],
      "execution_count": 39,
      "outputs": []
    },
    {
      "cell_type": "code",
      "metadata": {
        "id": "IiWb9VKNYMnB",
        "colab": {
          "base_uri": "https://localhost:8080/"
        },
        "outputId": "41d2a485-f510-43dc-f570-ed2e18bc8f0a"
      },
      "source": [
        "c"
      ],
      "execution_count": 40,
      "outputs": [
        {
          "output_type": "execute_result",
          "data": {
            "text/plain": [
              "[1, 2.25, 3, 'i', 'j', 'k', 'Hola', (2+1j), 3.141592653589793]"
            ]
          },
          "metadata": {
            "tags": []
          },
          "execution_count": 40
        }
      ]
    },
    {
      "cell_type": "code",
      "metadata": {
        "id": "IzUtJ-TzYMnB"
      },
      "source": [
        "c.append('Marcial')"
      ],
      "execution_count": 41,
      "outputs": []
    },
    {
      "cell_type": "code",
      "metadata": {
        "id": "k54ovvQbYMnC",
        "colab": {
          "base_uri": "https://localhost:8080/",
          "height": 35
        },
        "outputId": "760349e6-964f-435e-e0d4-16ae2799b1ac"
      },
      "source": [
        "c.pop(4)"
      ],
      "execution_count": 42,
      "outputs": [
        {
          "output_type": "execute_result",
          "data": {
            "application/vnd.google.colaboratory.intrinsic+json": {
              "type": "string"
            },
            "text/plain": [
              "'j'"
            ]
          },
          "metadata": {
            "tags": []
          },
          "execution_count": 42
        }
      ]
    },
    {
      "cell_type": "code",
      "metadata": {
        "id": "OsXUMtgbYMnC",
        "colab": {
          "base_uri": "https://localhost:8080/"
        },
        "outputId": "e9583ee7-a5ec-4e1d-c556-ecc494c79c02"
      },
      "source": [
        "c"
      ],
      "execution_count": 43,
      "outputs": [
        {
          "output_type": "execute_result",
          "data": {
            "text/plain": [
              "[1, 2.25, 3, 'i', 'k', 'Hola', (2+1j), 3.141592653589793, 'Marcial']"
            ]
          },
          "metadata": {
            "tags": []
          },
          "execution_count": 43
        }
      ]
    },
    {
      "cell_type": "code",
      "metadata": {
        "id": "EmaA_JsIYMnC"
      },
      "source": [
        "c.reverse()"
      ],
      "execution_count": 44,
      "outputs": []
    },
    {
      "cell_type": "code",
      "metadata": {
        "id": "jH6WSOUvYMnC",
        "colab": {
          "base_uri": "https://localhost:8080/"
        },
        "outputId": "f1c67cd8-a11c-4bfa-9ee4-a020ab45c697"
      },
      "source": [
        "c"
      ],
      "execution_count": 45,
      "outputs": [
        {
          "output_type": "execute_result",
          "data": {
            "text/plain": [
              "['Marcial', 3.141592653589793, (2+1j), 'Hola', 'k', 'i', 3, 2.25, 1]"
            ]
          },
          "metadata": {
            "tags": []
          },
          "execution_count": 45
        }
      ]
    },
    {
      "cell_type": "markdown",
      "metadata": {
        "id": "3XNQR_QgYMnC"
      },
      "source": [
        "# Numpy y uso de índices"
      ]
    },
    {
      "cell_type": "code",
      "metadata": {
        "id": "rfxp9FhgYMnD"
      },
      "source": [
        "import numpy as np\n",
        "otrosNumeros = np.array([0,1,2,3,4,5,6,7,8,9])"
      ],
      "execution_count": 46,
      "outputs": []
    },
    {
      "cell_type": "code",
      "metadata": {
        "id": "ylVcY1r4YMnE",
        "colab": {
          "base_uri": "https://localhost:8080/"
        },
        "outputId": "fb16d123-4434-40bb-c2f8-4fa1a692c162"
      },
      "source": [
        "otrosNumeros.std()"
      ],
      "execution_count": 47,
      "outputs": [
        {
          "output_type": "execute_result",
          "data": {
            "text/plain": [
              "2.8722813232690143"
            ]
          },
          "metadata": {
            "tags": []
          },
          "execution_count": 47
        }
      ]
    },
    {
      "cell_type": "code",
      "metadata": {
        "id": "9u9S_Q5VYMnE",
        "colab": {
          "base_uri": "https://localhost:8080/"
        },
        "outputId": "b8d595ba-b186-4cd6-bcf6-f0a962aea9a0"
      },
      "source": [
        "otrosNumeros >= 6"
      ],
      "execution_count": 48,
      "outputs": [
        {
          "output_type": "execute_result",
          "data": {
            "text/plain": [
              "array([False, False, False, False, False, False,  True,  True,  True,\n",
              "        True])"
            ]
          },
          "metadata": {
            "tags": []
          },
          "execution_count": 48
        }
      ]
    },
    {
      "cell_type": "code",
      "metadata": {
        "id": "wbOS-84NYMnE",
        "colab": {
          "base_uri": "https://localhost:8080/"
        },
        "outputId": "9503cb0a-a267-47c8-a86e-653aea97e179"
      },
      "source": [
        "otrosNumeros[otrosNumeros >= 6]"
      ],
      "execution_count": 49,
      "outputs": [
        {
          "output_type": "execute_result",
          "data": {
            "text/plain": [
              "array([6, 7, 8, 9])"
            ]
          },
          "metadata": {
            "tags": []
          },
          "execution_count": 49
        }
      ]
    },
    {
      "cell_type": "code",
      "metadata": {
        "id": "KvJEvfXAYMnE"
      },
      "source": [
        "temps = np.random.uniform(low=15,high=45,size=3000)"
      ],
      "execution_count": 50,
      "outputs": []
    },
    {
      "cell_type": "code",
      "metadata": {
        "id": "c3o-hie_YMnE"
      },
      "source": [
        "np.random.uniform?"
      ],
      "execution_count": 51,
      "outputs": []
    },
    {
      "cell_type": "code",
      "metadata": {
        "id": "_gtzSL5sYMnF",
        "colab": {
          "base_uri": "https://localhost:8080/"
        },
        "outputId": "5194df5e-4b35-4fc8-b29b-33e01aefa3f6"
      },
      "source": [
        "np.random.uniform(size=10)"
      ],
      "execution_count": 52,
      "outputs": [
        {
          "output_type": "execute_result",
          "data": {
            "text/plain": [
              "array([0.81425428, 0.78406662, 0.72613997, 0.747164  , 0.25781507,\n",
              "       0.45474906, 0.04014431, 0.68996869, 0.72133305, 0.12121014])"
            ]
          },
          "metadata": {
            "tags": []
          },
          "execution_count": 52
        }
      ]
    },
    {
      "cell_type": "code",
      "metadata": {
        "id": "eOsZ-pApYMnF",
        "colab": {
          "base_uri": "https://localhost:8080/"
        },
        "outputId": "30a51a12-c920-45d3-b4ce-2acbde905b34"
      },
      "source": [
        "temps.std()"
      ],
      "execution_count": 53,
      "outputs": [
        {
          "output_type": "execute_result",
          "data": {
            "text/plain": [
              "8.65756065590433"
            ]
          },
          "metadata": {
            "tags": []
          },
          "execution_count": 53
        }
      ]
    },
    {
      "cell_type": "markdown",
      "metadata": {
        "id": "1CfNNx8sgSvX"
      },
      "source": [
        "# Graficación básica"
      ]
    },
    {
      "cell_type": "code",
      "metadata": {
        "id": "KO-soOlGYMnF"
      },
      "source": [
        "import pylab as plt"
      ],
      "execution_count": 54,
      "outputs": []
    },
    {
      "cell_type": "code",
      "metadata": {
        "id": "AeZjEmAyYMnF",
        "colab": {
          "base_uri": "https://localhost:8080/",
          "height": 341
        },
        "outputId": "99d54754-bff2-4b69-ff2f-d8e844e141a9"
      },
      "source": [
        "plt.figure(figsize=(12,4),dpi=150)\n",
        "plt.plot(temps)"
      ],
      "execution_count": 55,
      "outputs": [
        {
          "output_type": "execute_result",
          "data": {
            "text/plain": [
              "[<matplotlib.lines.Line2D at 0x7f0e8f4a9690>]"
            ]
          },
          "metadata": {
            "tags": []
          },
          "execution_count": 55
        },
        {
          "output_type": "display_data",
          "data": {
            "image/png": "[encoded data removed]",
            "text/plain": [
              "<Figure size 1800x600 with 1 Axes>"
            ]
          },
          "metadata": {
            "tags": [],
            "needs_background": "light"
          }
        }
      ]
    },
    {
      "cell_type": "code",
      "metadata": {
        "id": "k5iChuidYMnF",
        "colab": {
          "base_uri": "https://localhost:8080/"
        },
        "outputId": "4bffd3f8-fb92-49f4-f9cc-0fcfc7fe155e"
      },
      "source": [
        "print(temps.mean(),temps.std())"
      ],
      "execution_count": 58,
      "outputs": [
        {
          "output_type": "stream",
          "text": [
            "30.15186545547974 8.65756065590433\n"
          ],
          "name": "stdout"
        }
      ]
    },
    {
      "cell_type": "code",
      "metadata": {
        "id": "aaWqgzHwYMnG"
      },
      "source": [
        "gtemps = np.random.normal(loc=temps.mean(),scale=temps.std(), size = len(temps))"
      ],
      "execution_count": 59,
      "outputs": []
    },
    {
      "cell_type": "code",
      "metadata": {
        "id": "r-1kxdKFYMnG",
        "colab": {
          "base_uri": "https://localhost:8080/",
          "height": 341
        },
        "outputId": "bba8c2a5-3d11-4f15-8e06-3f29c4859cf5"
      },
      "source": [
        "plt.figure(figsize=(12,4),dpi=150)\n",
        "plt.plot(gtemps)"
      ],
      "execution_count": 60,
      "outputs": [
        {
          "output_type": "execute_result",
          "data": {
            "text/plain": [
              "[<matplotlib.lines.Line2D at 0x7f0e8efab790>]"
            ]
          },
          "metadata": {
            "tags": []
          },
          "execution_count": 60
        },
        {
          "output_type": "display_data",
          "data": {
            "image/png": "[encoded data removed]",
            "text/plain": [
              "<Figure size 1800x600 with 1 Axes>"
            ]
          },
          "metadata": {
            "tags": [],
            "needs_background": "light"
          }
        }
      ]
    },
    {
      "cell_type": "code",
      "metadata": {
        "id": "eLLl3D26YMnG",
        "colab": {
          "base_uri": "https://localhost:8080/",
          "height": 613
        },
        "outputId": "bbbb0ff2-fa4b-4c59-b00f-1ab70616af4c"
      },
      "source": [
        "plt.figure(figsize=(10,10))\n",
        "plt.plot(temps,gtemps,'+r')\n",
        "plt.xlim((0,70))\n",
        "plt.ylim((0,70))"
      ],
      "execution_count": 61,
      "outputs": [
        {
          "output_type": "execute_result",
          "data": {
            "text/plain": [
              "(0.0, 70.0)"
            ]
          },
          "metadata": {
            "tags": []
          },
          "execution_count": 61
        },
        {
          "output_type": "display_data",
          "data": {
            "image/png": "[encoded data removed]",
            "text/plain": [
              "<Figure size 720x720 with 1 Axes>"
            ]
          },
          "metadata": {
            "tags": [],
            "needs_background": "light"
          }
        }
      ]
    },
    {
      "cell_type": "code",
      "metadata": {
        "id": "ZZIY5hdjYMnG",
        "colab": {
          "base_uri": "https://localhost:8080/",
          "height": 426
        },
        "outputId": "f9e8b9bd-4bee-4e00-bfa0-000a907b4ba4"
      },
      "source": [
        "plt.figure(figsize=(8,3),dpi=100)\n",
        "plt.hist(temps,bins=20)"
      ],
      "execution_count": 67,
      "outputs": [
        {
          "output_type": "execute_result",
          "data": {
            "text/plain": [
              "(array([137., 148., 168., 122., 147., 146., 157., 148., 143., 177., 159.,\n",
              "        136., 145., 157., 148., 141., 150., 154., 161., 156.]),\n",
              " array([15.00217616, 16.50197779, 18.00177942, 19.50158105, 21.00138268,\n",
              "        22.50118432, 24.00098595, 25.50078758, 27.00058921, 28.50039084,\n",
              "        30.00019248, 31.49999411, 32.99979574, 34.49959737, 35.999399  ,\n",
              "        37.49920064, 38.99900227, 40.4988039 , 41.99860553, 43.49840716,\n",
              "        44.9982088 ]),\n",
              " <a list of 20 Patch objects>)"
            ]
          },
          "metadata": {
            "tags": []
          },
          "execution_count": 67
        },
        {
          "output_type": "display_data",
          "data": {
            "image/png": "[encoded data removed]",
            "text/plain": [
              "<Figure size 800x300 with 1 Axes>"
            ]
          },
          "metadata": {
            "tags": [],
            "needs_background": "light"
          }
        }
      ]
    },
    {
      "cell_type": "code",
      "metadata": {
        "id": "sdORCPG0YMnG",
        "colab": {
          "base_uri": "https://localhost:8080/",
          "height": 1000
        },
        "outputId": "4fca90a1-7131-47c4-b878-ff1228cbb653"
      },
      "source": [
        "plt.figure(figsize=(5,5),dpi=150)\n",
        "plt.hist(gtemps,bins=100)"
      ],
      "execution_count": 68,
      "outputs": [
        {
          "output_type": "execute_result",
          "data": {
            "text/plain": [
              "(array([  1.,   0.,   0.,   1.,   0.,   1.,   2.,   1.,   0.,   1.,   0.,\n",
              "          2.,   6.,   5.,   4.,   2.,   2.,   5.,   9.,   6.,   5.,   9.,\n",
              "         17.,  13.,  15.,  28.,  22.,  34.,  26.,  32.,  23.,  43.,  37.,\n",
              "         39.,  42.,  46.,  62.,  66.,  54.,  61.,  62.,  73.,  77.,  74.,\n",
              "         69.,  88.,  80., 101.,  95.,  74.,  93.,  87.,  76.,  66.,  66.,\n",
              "         69.,  84.,  77.,  65.,  62.,  56.,  60.,  75.,  48.,  45.,  50.,\n",
              "         43.,  44.,  31.,  34.,  26.,  27.,  21.,  24.,  19.,  23.,  17.,\n",
              "         18.,  10.,  10.,   8.,   9.,  10.,   5.,   3.,   3.,   5.,   4.,\n",
              "          0.,   2.,   4.,   1.,   2.,   1.,   0.,   0.,   0.,   1.,   0.,\n",
              "          1.]),\n",
              " array([ 0.2386678 ,  0.83518625,  1.43170469,  2.02822314,  2.62474159,\n",
              "         3.22126004,  3.81777848,  4.41429693,  5.01081538,  5.60733382,\n",
              "         6.20385227,  6.80037072,  7.39688917,  7.99340761,  8.58992606,\n",
              "         9.18644451,  9.78296296, 10.3794814 , 10.97599985, 11.5725183 ,\n",
              "        12.16903675, 12.76555519, 13.36207364, 13.95859209, 14.55511054,\n",
              "        15.15162898, 15.74814743, 16.34466588, 16.94118432, 17.53770277,\n",
              "        18.13422122, 18.73073967, 19.32725811, 19.92377656, 20.52029501,\n",
              "        21.11681346, 21.7133319 , 22.30985035, 22.9063688 , 23.50288725,\n",
              "        24.09940569, 24.69592414, 25.29244259, 25.88896104, 26.48547948,\n",
              "        27.08199793, 27.67851638, 28.27503482, 28.87155327, 29.46807172,\n",
              "        30.06459017, 30.66110861, 31.25762706, 31.85414551, 32.45066396,\n",
              "        33.0471824 , 33.64370085, 34.2402193 , 34.83673775, 35.43325619,\n",
              "        36.02977464, 36.62629309, 37.22281154, 37.81932998, 38.41584843,\n",
              "        39.01236688, 39.60888532, 40.20540377, 40.80192222, 41.39844067,\n",
              "        41.99495911, 42.59147756, 43.18799601, 43.78451446, 44.3810329 ,\n",
              "        44.97755135, 45.5740698 , 46.17058825, 46.76710669, 47.36362514,\n",
              "        47.96014359, 48.55666203, 49.15318048, 49.74969893, 50.34621738,\n",
              "        50.94273582, 51.53925427, 52.13577272, 52.73229117, 53.32880961,\n",
              "        53.92532806, 54.52184651, 55.11836496, 55.7148834 , 56.31140185,\n",
              "        56.9079203 , 57.50443875, 58.10095719, 58.69747564, 59.29399409,\n",
              "        59.89051253]),\n",
              " <a list of 100 Patch objects>)"
            ]
          },
          "metadata": {
            "tags": []
          },
          "execution_count": 68
        },
        {
          "output_type": "display_data",
          "data": {
            "image/png": "[encoded data removed]",
            "text/plain": [
              "<Figure size 750x750 with 1 Axes>"
            ]
          },
          "metadata": {
            "tags": [],
            "needs_background": "light"
          }
        }
      ]
    },
    {
      "cell_type": "markdown",
      "metadata": {
        "id": "QwbVxUVBYMnG"
      },
      "source": [
        "# Diccionarios"
      ]
    },
    {
      "cell_type": "code",
      "metadata": {
        "id": "qCRa2yclYMnG"
      },
      "source": [
        "letras = {1:\"A\",2:\"B\",3:\"C\",4:\"D\"}"
      ],
      "execution_count": null,
      "outputs": []
    },
    {
      "cell_type": "code",
      "metadata": {
        "id": "NzGC4KcjYMnG"
      },
      "source": [
        "letras[2]"
      ],
      "execution_count": null,
      "outputs": []
    },
    {
      "cell_type": "code",
      "metadata": {
        "id": "i92xMIl9YMnH"
      },
      "source": [
        "detalles = {\"nombre\": \"Jupyter\", \"descripcion\": \"El planeta mas grande del sistema solar\", \"masa\":1.898E27}"
      ],
      "execution_count": null,
      "outputs": []
    },
    {
      "cell_type": "code",
      "metadata": {
        "id": "rVMd-PrWYMnH"
      },
      "source": [
        "planeta5 = {\"nombre\": \"Jupyter\", \"descripcion\": \"El planeta mas grande del sistema solar\", \"masa\":1.898E27}"
      ],
      "execution_count": null,
      "outputs": []
    },
    {
      "cell_type": "code",
      "metadata": {
        "id": "Ht3ePR9FYMnH"
      },
      "source": [
        "planeta3 = {\"nombre\": \"Tierra\", \"descripcion\": \"LLeno de gente con covid19\", \"masa\":6E24}"
      ],
      "execution_count": null,
      "outputs": []
    },
    {
      "cell_type": "code",
      "metadata": {
        "id": "seCJ5brwYMnH"
      },
      "source": [
        "planetas = [planeta3, planeta5]"
      ],
      "execution_count": null,
      "outputs": []
    },
    {
      "cell_type": "code",
      "metadata": {
        "id": "UK6K2ny6YMnH"
      },
      "source": [
        "planeta3['masa']+planeta5['masa']"
      ],
      "execution_count": null,
      "outputs": []
    },
    {
      "cell_type": "code",
      "metadata": {
        "id": "Gnq-iMAfYMnI"
      },
      "source": [
        "masas = np.sum([ x['masa'] for x in planetas ])"
      ],
      "execution_count": null,
      "outputs": []
    },
    {
      "cell_type": "code",
      "metadata": {
        "id": "JjHcescOYMnI"
      },
      "source": [
        "descrip = [ x['descripcion'] for x in planetas ]"
      ],
      "execution_count": null,
      "outputs": []
    },
    {
      "cell_type": "code",
      "metadata": {
        "id": "XOcRjIxlYMnI"
      },
      "source": [
        "descrip"
      ],
      "execution_count": null,
      "outputs": []
    },
    {
      "cell_type": "code",
      "metadata": {
        "id": "MwMA99VmYMnI"
      },
      "source": [
        "detalles[\"nombre\"]"
      ],
      "execution_count": null,
      "outputs": []
    },
    {
      "cell_type": "code",
      "metadata": {
        "id": "w1AKBYVvYMnI"
      },
      "source": [
        "M = planeta5[\"masa\"]"
      ],
      "execution_count": null,
      "outputs": []
    },
    {
      "cell_type": "code",
      "metadata": {
        "id": "7SeUizPeYMnJ"
      },
      "source": [
        "M"
      ],
      "execution_count": null,
      "outputs": []
    },
    {
      "cell_type": "markdown",
      "metadata": {
        "id": "QCDjjoc_YMnK"
      },
      "source": [
        "# Control de flujo con **if**"
      ]
    },
    {
      "cell_type": "code",
      "metadata": {
        "id": "giQCreq6YMnK"
      },
      "source": [
        "if M > 5.972E24:\n",
        "    print(\"Jupyter tiene más masa que la tierra\")\n",
        "    print(\"Otra accion del IF\")\n",
        "else:\n",
        "    print(\"Jupyter tiene menos masa que la tierra\")"
      ],
      "execution_count": null,
      "outputs": []
    },
    {
      "cell_type": "code",
      "metadata": {
        "id": "hfxwO4U6YMnK"
      },
      "source": [
        "# Suponga que tenemos un reactor nuclear y este programa evalúa las condiciones de tempteratura\n",
        "temperatura = 270 # Kelvin"
      ],
      "execution_count": null,
      "outputs": []
    },
    {
      "cell_type": "code",
      "metadata": {
        "id": "iR_rI7F7YMnK"
      },
      "source": [
        "if temperatura < 293 and temperatura > 273:\n",
        "    print(\"Reactor con temperatura normal\")\n",
        "elif temperatura <= 273:\n",
        "    print(\"Sistema de enfriamiento congelado!!!\")\n",
        "elif temperatura > 373:\n",
        "    print(\"Temperatura CRITICA! CORRAN!!!\")\n",
        "else:\n",
        "    print(\"Temperatura elevada, activar sistema de enfriamiento\")    "
      ],
      "execution_count": null,
      "outputs": []
    },
    {
      "cell_type": "code",
      "metadata": {
        "id": "z0vig83AYMnK"
      },
      "source": [
        "numero = 24"
      ],
      "execution_count": null,
      "outputs": []
    },
    {
      "cell_type": "code",
      "metadata": {
        "id": "L8XyNEpbYMnK"
      },
      "source": [
        "var = \"par\" if (numero % 2 == 0) else \"impar\""
      ],
      "execution_count": null,
      "outputs": []
    },
    {
      "cell_type": "code",
      "metadata": {
        "id": "iqzWmqf6YMnK"
      },
      "source": [
        "print(var)"
      ],
      "execution_count": null,
      "outputs": []
    },
    {
      "cell_type": "markdown",
      "metadata": {
        "id": "11NDU-O1YMnK"
      },
      "source": [
        "# Ciclos con **while**"
      ]
    },
    {
      "cell_type": "code",
      "metadata": {
        "id": "_d4d-riZYMnM"
      },
      "source": [
        "# while True es PELIGROSO pero aveces muy util!!!"
      ],
      "execution_count": null,
      "outputs": []
    },
    {
      "cell_type": "code",
      "metadata": {
        "id": "kQeRiFEdYMnN"
      },
      "source": [
        "N = 0\n",
        "while N < 100:\n",
        "    print(N)\n",
        "    N=N+1"
      ],
      "execution_count": null,
      "outputs": []
    },
    {
      "cell_type": "code",
      "metadata": {
        "id": "Qm_GWM9VYMnN"
      },
      "source": [
        "N = 10\n",
        "while N != 0:\n",
        "    print(N)\n",
        "    N-=1"
      ],
      "execution_count": null,
      "outputs": []
    },
    {
      "cell_type": "markdown",
      "metadata": {
        "id": "-x6l8t9DYMnN"
      },
      "source": [
        "# Ciclos con **for**"
      ]
    },
    {
      "cell_type": "code",
      "metadata": {
        "id": "N0BdoI-FYMnN",
        "outputId": "c480b5e7-1b7e-4cbf-9133-8baa50b9354f"
      },
      "source": [
        "for x in [1,2,3,4]:\n",
        "    print(x**9)"
      ],
      "execution_count": null,
      "outputs": [
        {
          "output_type": "stream",
          "text": [
            "1\n",
            "512\n",
            "19683\n",
            "262144\n"
          ],
          "name": "stdout"
        }
      ]
    },
    {
      "cell_type": "markdown",
      "metadata": {
        "id": "yluUAthHheZl"
      },
      "source": [
        "# Aplicando lo aprendido hasta ahora"
      ]
    },
    {
      "cell_type": "code",
      "metadata": {
        "id": "8FBheTQ5YMnO"
      },
      "source": [
        "temps = np.random.uniform(low=10,high=30,size=5)"
      ],
      "execution_count": 69,
      "outputs": []
    },
    {
      "cell_type": "code",
      "metadata": {
        "id": "z-wmMmq6YMnO",
        "colab": {
          "base_uri": "https://localhost:8080/"
        },
        "outputId": "4af8754a-3b66-4741-c3e8-a045e3b828c7"
      },
      "source": [
        "temps"
      ],
      "execution_count": 70,
      "outputs": [
        {
          "output_type": "execute_result",
          "data": {
            "text/plain": [
              "array([13.65857695, 10.33294266, 20.25879086, 25.86550192, 24.77164963])"
            ]
          },
          "metadata": {
            "tags": []
          },
          "execution_count": 70
        }
      ]
    },
    {
      "cell_type": "code",
      "metadata": {
        "id": "WOsvciUQYMnO",
        "colab": {
          "base_uri": "https://localhost:8080/"
        },
        "outputId": "5d9899e4-9b48-498a-dce3-c62aaa975570"
      },
      "source": [
        "for temperatura in temps:\n",
        "    if temperatura > 20:\n",
        "        print(\"True\")\n",
        "    elif temperatura < 20:\n",
        "        print(\"False\")"
      ],
      "execution_count": 71,
      "outputs": [
        {
          "output_type": "stream",
          "text": [
            "False\n",
            "False\n",
            "True\n",
            "True\n",
            "True\n"
          ],
          "name": "stdout"
        }
      ]
    },
    {
      "cell_type": "code",
      "metadata": {
        "id": "JtzqZw7uYMnO",
        "outputId": "403a6a4e-16db-40ba-9d5a-c14a33fe512d"
      },
      "source": [
        "temps > 20"
      ],
      "execution_count": null,
      "outputs": [
        {
          "output_type": "execute_result",
          "data": {
            "text/plain": [
              "array([ True, False, False,  True,  True])"
            ]
          },
          "metadata": {
            "tags": []
          },
          "execution_count": 10
        }
      ]
    },
    {
      "cell_type": "code",
      "metadata": {
        "id": "gKmF0mUcYMnP",
        "outputId": "2ef89505-69ca-45a4-febf-7aaa354b0926"
      },
      "source": [
        "suma = 0\n",
        "for i in temps:\n",
        "    suma+=i\n",
        "print(suma)"
      ],
      "execution_count": null,
      "outputs": [
        {
          "output_type": "stream",
          "text": [
            "105.36562783303134\n"
          ],
          "name": "stdout"
        }
      ]
    },
    {
      "cell_type": "code",
      "metadata": {
        "id": "_feY8qYrYMnP",
        "outputId": "d91eeee0-636e-4b15-a269-e2e26871308f"
      },
      "source": [
        "temps.sum()"
      ],
      "execution_count": null,
      "outputs": [
        {
          "output_type": "execute_result",
          "data": {
            "text/plain": [
              "105.36562783303134"
            ]
          },
          "metadata": {
            "tags": []
          },
          "execution_count": 12
        }
      ]
    },
    {
      "cell_type": "code",
      "metadata": {
        "id": "CONrRW9MYMnP",
        "outputId": "fc91a08c-fdaf-4bfc-da7a-7a294d121170"
      },
      "source": [
        "np.sum(temps)"
      ],
      "execution_count": null,
      "outputs": [
        {
          "output_type": "execute_result",
          "data": {
            "text/plain": [
              "105.36562783303134"
            ]
          },
          "metadata": {
            "tags": []
          },
          "execution_count": 13
        }
      ]
    },
    {
      "cell_type": "code",
      "metadata": {
        "id": "M2x0mEmSYMnP"
      },
      "source": [
        "for each in c:\n",
        "    print(each)"
      ],
      "execution_count": null,
      "outputs": []
    },
    {
      "cell_type": "code",
      "metadata": {
        "id": "eTog9AgeYMnQ"
      },
      "source": [
        "for N, each in enumerate(c):\n",
        "    print(N,each)"
      ],
      "execution_count": null,
      "outputs": []
    },
    {
      "cell_type": "code",
      "metadata": {
        "id": "Clti_S9FYMnQ"
      },
      "source": [
        "for x in range(10):\n",
        "    print(x)"
      ],
      "execution_count": null,
      "outputs": []
    },
    {
      "cell_type": "code",
      "metadata": {
        "id": "0U_RsSKAYMnQ"
      },
      "source": [
        "pares = [ x for x in range(100) if (x % 2 == 0) ]"
      ],
      "execution_count": null,
      "outputs": []
    },
    {
      "cell_type": "code",
      "metadata": {
        "id": "05fk37yBYMnQ"
      },
      "source": [
        "arreglo = [ x**(1/3) for x in range(1000) if (x % 2 == 1) ]"
      ],
      "execution_count": null,
      "outputs": []
    },
    {
      "cell_type": "code",
      "metadata": {
        "id": "mmsk8Tf3YMnQ"
      },
      "source": [
        "print(arreglo)"
      ],
      "execution_count": null,
      "outputs": []
    },
    {
      "cell_type": "code",
      "metadata": {
        "id": "ytnxqsoNYMnR"
      },
      "source": [
        "pares"
      ],
      "execution_count": null,
      "outputs": []
    },
    {
      "cell_type": "markdown",
      "metadata": {
        "id": "9S5vwSCpYMnR"
      },
      "source": [
        "Ejercicio: Haga un programa que sume todos los números del 1 al 100. Luego al 10 mil pero solo los impares."
      ]
    },
    {
      "cell_type": "code",
      "metadata": {
        "id": "X6KGb6zoYMnR"
      },
      "source": [
        "import numpy as np"
      ],
      "execution_count": null,
      "outputs": []
    },
    {
      "cell_type": "code",
      "metadata": {
        "id": "4fOylJ_PYMnR"
      },
      "source": [
        "range?"
      ],
      "execution_count": null,
      "outputs": []
    },
    {
      "cell_type": "code",
      "metadata": {
        "id": "d9b7bM7lYMnR"
      },
      "source": [
        "pares = range(0,101,2)"
      ],
      "execution_count": null,
      "outputs": []
    },
    {
      "cell_type": "code",
      "metadata": {
        "id": "JjoqVX5_YMnS"
      },
      "source": [
        "sum(pares)"
      ],
      "execution_count": null,
      "outputs": []
    },
    {
      "cell_type": "code",
      "metadata": {
        "id": "Mj5TjEmjYMnS"
      },
      "source": [
        "suma=0\n",
        "for x in range(0,101,2):\n",
        "    suma += x\n",
        "print(suma)"
      ],
      "execution_count": null,
      "outputs": []
    },
    {
      "cell_type": "code",
      "metadata": {
        "id": "o1BI5vZRYMnS"
      },
      "source": [
        "np.sum(pares)"
      ],
      "execution_count": null,
      "outputs": []
    },
    {
      "cell_type": "code",
      "metadata": {
        "id": "mqr_PMCYYMnS"
      },
      "source": [
        "imparesimpares = range(1,10000,2)"
      ],
      "execution_count": null,
      "outputs": []
    },
    {
      "cell_type": "code",
      "metadata": {
        "id": "CBXnwhTYYMnS"
      },
      "source": [
        "suma=0\n",
        "for x in impares:\n",
        "    suma += x\n",
        "print(suma)"
      ],
      "execution_count": null,
      "outputs": []
    },
    {
      "cell_type": "code",
      "metadata": {
        "id": "WYfsz1CwYMnT"
      },
      "source": [
        "suma=0\n",
        "for x in range(10000):\n",
        "    if x%2 != 0:\n",
        "        suma += x\n",
        "print(suma)"
      ],
      "execution_count": null,
      "outputs": []
    },
    {
      "cell_type": "code",
      "metadata": {
        "id": "gyqHQ89lYMnT"
      },
      "source": [
        "np.sum(impares)"
      ],
      "execution_count": null,
      "outputs": []
    },
    {
      "cell_type": "markdown",
      "metadata": {
        "id": "d8qlLg9qh3l7"
      },
      "source": [
        "# Graficación de distribuciones gausianas"
      ]
    },
    {
      "cell_type": "code",
      "metadata": {
        "id": "6RhOcB6Ah3J8"
      },
      "source": [
        "import numpy as np\n",
        "import matplotlib.pyplot as plt"
      ],
      "execution_count": 1,
      "outputs": []
    },
    {
      "cell_type": "code",
      "metadata": {
        "colab": {
          "base_uri": "https://localhost:8080/",
          "height": 377
        },
        "id": "aGjvgpeyh9UJ",
        "outputId": "e22176d3-3cce-44f1-fb70-fb0eb5915f27"
      },
      "source": [
        "plt.figure(figsize=(5,4),dpi=100)\n",
        "size = 100\n",
        "\n",
        "sigma_x0 = 40.\n",
        "sigma_y0 = 50.\n",
        "x0 = 500\n",
        "y0 = 500\n",
        "\n",
        "sigma_x1 = 30.\n",
        "sigma_y1 = 70.\n",
        "x1 = 500\n",
        "y1 = -500\n",
        "\n",
        "sigma_x2 = 80.\n",
        "sigma_y2 = 60.\n",
        "x2 = -500\n",
        "y2 = 0\n",
        "\n",
        "x = np.linspace(-1000, 1000, size)\n",
        "y = np.linspace(-1000, 1000, size)\n",
        "\n",
        "def Gaussian(sx, sy, x0, y0):\n",
        "  return (1/(2*np.pi*sx*sy) * np.exp(-((x - x0)**2/(2*sx**2) + (y-y0)**2/(2*sy**2))))\n",
        "  \n",
        "x, y = np.meshgrid(x, y)\n",
        "z0 = Gaussian(sigma_x0, sigma_y0, x0, y0)\n",
        "z1 = Gaussian(sigma_x1, sigma_y1, x1, y1)\n",
        "z2 = Gaussian(sigma_x2, sigma_y2, x2, y2)\n",
        "\n",
        "z = z0 + z1 + z2\n",
        "\n",
        "plt.contourf(x, y, z, cmap='Spectral', levels=100)\n",
        "\n",
        "plt.colorbar()\n",
        "plt.show()"
      ],
      "execution_count": 4,
      "outputs": [
        {
          "output_type": "display_data",
          "data": {
            "image/png": "[encoded data removed]",
            "text/plain": [
              "<Figure size 500x400 with 2 Axes>"
            ]
          },
          "metadata": {
            "tags": [],
            "needs_background": "light"
          }
        }
      ]
    },
    {
      "cell_type": "code",
      "metadata": {
        "id": "PN9E90ZBiDjv"
      },
      "source": [
        ""
      ],
      "execution_count": null,
      "outputs": []
    }
  ]
}